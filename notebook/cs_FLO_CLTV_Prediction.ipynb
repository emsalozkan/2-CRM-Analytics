{
 "cells": [
  {
   "cell_type": "code",
   "execution_count": null,
   "metadata": {},
   "outputs": [],
   "source": [
    "# BG-NBD ve Gamma-Gamma ile CLTV Prediction\n",
    "##############################################################\n",
    "\n",
    "###############################################################\n",
    "# İş Problemi (Business Problem)\n",
    "###############################################################\n",
    "# FLO satış ve pazarlama faaliyetleri için roadmap belirlemek istemektedir.\n",
    "# Şirketin orta uzun vadeli plan yapabilmesi için var olan müşterilerin gelecekte şirkete sağlayacakları potansiyel değerin tahmin edilmesi gerekmektedir.\n",
    "\n",
    "\n",
    "###############################################################\n",
    "# Veri Seti Hikayesi\n",
    "###############################################################\n",
    "\n",
    "# Veri seti son alışverişlerini 2020 - 2021 yıllarında OmniChannel(hem online hem offline alışveriş yapan) olarak yapan müşterilerin geçmiş alışveriş davranışlarından\n",
    "# elde edilen bilgilerden oluşmaktadır.\n",
    "\n",
    "# master_id: Eşsiz müşteri numarası\n",
    "# order_channel : Alışveriş yapılan platforma ait hangi kanalın kullanıldığı (Android, ios, Desktop, Mobile, Offline)\n",
    "# last_order_channel : En son alışverişin yapıldığı kanal\n",
    "# first_order_date : Müşterinin yaptığı ilk alışveriş tarihi\n",
    "# last_order_date : Müşterinin yaptığı son alışveriş tarihi\n",
    "# last_order_date_online : Muşterinin online platformda yaptığı son alışveriş tarihi\n",
    "# last_order_date_offline : Muşterinin offline platformda yaptığı son alışveriş tarihi\n",
    "# order_num_total_ever_online : Müşterinin online platformda yaptığı toplam alışveriş sayısı\n",
    "# order_num_total_ever_offline : Müşterinin offline'da yaptığı toplam alışveriş sayısı\n",
    "# customer_value_total_ever_offline : Müşterinin offline alışverişlerinde ödediği toplam ücret\n",
    "# customer_value_total_ever_online : Müşterinin online alışverişlerinde ödediği toplam ücret\n",
    "# interested_in_categories_12 : Müşterinin son 12 ayda alışveriş yaptığı kategorilerin listesi\n",
    "\n"
   ]
  }
 ],
 "metadata": {
  "language_info": {
   "name": "python"
  },
  "orig_nbformat": 4
 },
 "nbformat": 4,
 "nbformat_minor": 2
}
